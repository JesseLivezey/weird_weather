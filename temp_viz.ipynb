{
 "cells": [
  {
   "cell_type": "code",
   "execution_count": 34,
   "metadata": {
    "collapsed": false
   },
   "outputs": [
    {
     "data": {
      "text/plain": [
       "<module 'utils' from 'utils.py'>"
      ]
     },
     "execution_count": 34,
     "metadata": {},
     "output_type": "execute_result"
    }
   ],
   "source": [
    "import pandas as pd\n",
    "import matplotlib.pyplot as plt\n",
    "import numpy as np\n",
    "import glob, os, sys\n",
    "import utils\n",
    "reload(utils)"
   ]
  },
  {
   "cell_type": "code",
   "execution_count": 35,
   "metadata": {
    "collapsed": false
   },
   "outputs": [],
   "source": [
    "folder = '/home/jesse/Development/data/weather'\n",
    "files = glob.glob(os.path.join(folder, '*.csv'))\n",
    "t_range = [-50, 150]"
   ]
  },
  {
   "cell_type": "code",
   "execution_count": 36,
   "metadata": {
    "collapsed": false
   },
   "outputs": [
    {
     "name": "stdout",
     "output_type": "stream",
     "text": [
      "['DETROIT METROPOLITAN AIRPORT MI US', 'ITHACA CORNELL UNIVERSITY NY US', 'OAKLAND METROPOLITAN INTERNATIONAL AIRPORT CA US', 'SAN DIEGO INTERNATIONAL AIRPORT CA US', 'SAN FRANCISCO DOWNTOWN CA US', 'SAN JOSE CA US']\n"
     ]
    }
   ],
   "source": [
    "data = [pd.read_csv(f, low_memory=False) for f in files]\n",
    "data = pd.concat(data)\n",
    "post_data, stations, data_per_station = utils.preprocess(data, t_range)\n",
    "print(stations)"
   ]
  },
  {
   "cell_type": "code",
   "execution_count": 38,
   "metadata": {
    "collapsed": false
   },
   "outputs": [],
   "source": [
    "for st in stations:\n",
    "    df = data_per_station[st]\n",
    "    ax = df.plot('DATE_fmt', ['TMIN', 'TMAX'], zorder=1)\n",
    "    for t, c in zip(['TMIN', 'TMAX'], ['red', 'yellow']):\n",
    "        mean = df[t].mean()\n",
    "        rolling = df[t].rolling(window=30, min_periods=10, center=True).median()\n",
    "        time = np.linspace(*ax.get_xlim(), num=rolling.shape[0], endpoint=True)\n",
    "        y = mean*np.ones_like(time)\n",
    "        ax.plot(time, y, c=c, zorder=10)\n",
    "        ax.plot(time, rolling, c=c, zorder=10)\n",
    "    plt.ylim(t_range)\n",
    "    plt.title(st)\n",
    "plt.show()"
   ]
  },
  {
   "cell_type": "code",
   "execution_count": null,
   "metadata": {
    "collapsed": true
   },
   "outputs": [],
   "source": []
  }
 ],
 "metadata": {
  "kernelspec": {
   "display_name": "Python 2",
   "language": "python",
   "name": "python2"
  },
  "language_info": {
   "codemirror_mode": {
    "name": "ipython",
    "version": 2
   },
   "file_extension": ".py",
   "mimetype": "text/x-python",
   "name": "python",
   "nbconvert_exporter": "python",
   "pygments_lexer": "ipython2",
   "version": "2.7.12"
  }
 },
 "nbformat": 4,
 "nbformat_minor": 0
}
