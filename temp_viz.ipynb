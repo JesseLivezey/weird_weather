{
 "cells": [
  {
   "cell_type": "code",
   "execution_count": 101,
   "metadata": {
    "collapsed": false
   },
   "outputs": [
    {
     "data": {
      "text/plain": [
       "<module 'plotting' from '/home/jesse/Development/weird_weather/plotting.py'>"
      ]
     },
     "execution_count": 101,
     "metadata": {},
     "output_type": "execute_result"
    }
   ],
   "source": [
    "import pandas as pd\n",
    "import matplotlib\n",
    "import matplotlib.pyplot as plt\n",
    "import numpy as np\n",
    "import glob, os, sys\n",
    "import utils\n",
    "import plotting\n",
    "from importlib import reload\n",
    "reload(utils)\n",
    "reload(plotting)"
   ]
  },
  {
   "cell_type": "code",
   "execution_count": 102,
   "metadata": {
    "collapsed": false
   },
   "outputs": [],
   "source": [
    "folder = '/home/jesse/Development/data/weather'\n",
    "files = glob.glob(os.path.join(folder, '*.csv'))\n",
    "kwargs = {'t_range': [-20, 120]}"
   ]
  },
  {
   "cell_type": "code",
   "execution_count": 103,
   "metadata": {
    "collapsed": false
   },
   "outputs": [
    {
     "name": "stdout",
     "output_type": "stream",
     "text": [
      "['DETROIT METROPOLITAN AIRPORT MI US', 'ITHACA CORNELL UNIVERSITY NY US', 'OAKLAND METROPOLITAN INTERNATIONAL AIRPORT CA US', 'SAN DIEGO INTERNATIONAL AIRPORT CA US', 'SAN FRANCISCO DOWNTOWN CA US', 'SAN JOSE CA US']\n"
     ]
    }
   ],
   "source": [
    "data = [pd.read_csv(f, low_memory=False) for f in files]\n",
    "data = pd.concat(data)\n",
    "df, stations = utils.preprocess(data, **kwargs)\n",
    "print(stations)"
   ]
  },
  {
   "cell_type": "code",
   "execution_count": 107,
   "metadata": {
    "collapsed": false
   },
   "outputs": [],
   "source": [
    "f = plotting.plot_stations_all_time(df, stations, **kwargs)\n",
    "plt.savefig('alltime.png')\n",
    "plt.show()"
   ]
  },
  {
   "cell_type": "code",
   "execution_count": 108,
   "metadata": {
    "collapsed": false
   },
   "outputs": [],
   "source": [
    "f = plotting.plot_annual_temperature(df, stations)\n",
    "plt.savefig('annual.png')\n",
    "plt.show()"
   ]
  },
  {
   "cell_type": "code",
   "execution_count": null,
   "metadata": {
    "collapsed": true
   },
   "outputs": [],
   "source": []
  }
 ],
 "metadata": {
  "anaconda-cloud": {},
  "kernelspec": {
   "display_name": "Python [Root]",
   "language": "python",
   "name": "Python [Root]"
  },
  "language_info": {
   "codemirror_mode": {
    "name": "ipython",
    "version": 3
   },
   "file_extension": ".py",
   "mimetype": "text/x-python",
   "name": "python",
   "nbconvert_exporter": "python",
   "pygments_lexer": "ipython3",
   "version": "3.5.2"
  }
 },
 "nbformat": 4,
 "nbformat_minor": 0
}
